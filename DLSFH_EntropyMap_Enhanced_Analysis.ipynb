{
  "cells": [
    {
      "cell_type": "markdown",
      "metadata": {
        "id": "view-in-github",
        "colab_type": "text"
      },
      "source": [
        "<a href=\"https://colab.research.google.com/github/geopayme/hubot/blob/master/DLSFH_EntropyMap_Enhanced_Analysis.ipynb\" target=\"_parent\"><img src=\"https://colab.research.google.com/assets/colab-badge.svg\" alt=\"Open In Colab\"/></a>"
      ]
    },
    {
      "cell_type": "markdown",
      "id": "6cee569a",
      "metadata": {
        "id": "6cee569a"
      },
      "source": [
        "# 🌞 DLSFH Solar Entropy Analysis (Enhanced)\n",
        "This version includes:\n",
        "- Full entropy vector extraction\n",
        "- Inner vs outer ring breakdown\n",
        "- Pattern-based asymmetry detection\n",
        "- Dynamic interpretation logic based on vector shape, not just counts\n"
      ]
    },
    {
      "cell_type": "code",
      "execution_count": 8,
      "id": "bd3f20cf",
      "metadata": {
        "colab": {
          "base_uri": "https://localhost:8080/",
          "height": 90
        },
        "id": "bd3f20cf",
        "outputId": "3973cb4f-a770-4125-9728-cc28d2abda0e"
      },
      "outputs": [
        {
          "output_type": "display_data",
          "data": {
            "text/plain": [
              "<IPython.core.display.HTML object>"
            ],
            "text/html": [
              "\n",
              "     <input type=\"file\" id=\"files-131e7dac-0364-46b1-aa6e-048d94b2f527\" name=\"files[]\" multiple disabled\n",
              "        style=\"border:none\" />\n",
              "     <output id=\"result-131e7dac-0364-46b1-aa6e-048d94b2f527\">\n",
              "      Upload widget is only available when the cell has been executed in the\n",
              "      current browser session. Please rerun this cell to enable.\n",
              "      </output>\n",
              "      <script>// Copyright 2017 Google LLC\n",
              "//\n",
              "// Licensed under the Apache License, Version 2.0 (the \"License\");\n",
              "// you may not use this file except in compliance with the License.\n",
              "// You may obtain a copy of the License at\n",
              "//\n",
              "//      http://www.apache.org/licenses/LICENSE-2.0\n",
              "//\n",
              "// Unless required by applicable law or agreed to in writing, software\n",
              "// distributed under the License is distributed on an \"AS IS\" BASIS,\n",
              "// WITHOUT WARRANTIES OR CONDITIONS OF ANY KIND, either express or implied.\n",
              "// See the License for the specific language governing permissions and\n",
              "// limitations under the License.\n",
              "\n",
              "/**\n",
              " * @fileoverview Helpers for google.colab Python module.\n",
              " */\n",
              "(function(scope) {\n",
              "function span(text, styleAttributes = {}) {\n",
              "  const element = document.createElement('span');\n",
              "  element.textContent = text;\n",
              "  for (const key of Object.keys(styleAttributes)) {\n",
              "    element.style[key] = styleAttributes[key];\n",
              "  }\n",
              "  return element;\n",
              "}\n",
              "\n",
              "// Max number of bytes which will be uploaded at a time.\n",
              "const MAX_PAYLOAD_SIZE = 100 * 1024;\n",
              "\n",
              "function _uploadFiles(inputId, outputId) {\n",
              "  const steps = uploadFilesStep(inputId, outputId);\n",
              "  const outputElement = document.getElementById(outputId);\n",
              "  // Cache steps on the outputElement to make it available for the next call\n",
              "  // to uploadFilesContinue from Python.\n",
              "  outputElement.steps = steps;\n",
              "\n",
              "  return _uploadFilesContinue(outputId);\n",
              "}\n",
              "\n",
              "// This is roughly an async generator (not supported in the browser yet),\n",
              "// where there are multiple asynchronous steps and the Python side is going\n",
              "// to poll for completion of each step.\n",
              "// This uses a Promise to block the python side on completion of each step,\n",
              "// then passes the result of the previous step as the input to the next step.\n",
              "function _uploadFilesContinue(outputId) {\n",
              "  const outputElement = document.getElementById(outputId);\n",
              "  const steps = outputElement.steps;\n",
              "\n",
              "  const next = steps.next(outputElement.lastPromiseValue);\n",
              "  return Promise.resolve(next.value.promise).then((value) => {\n",
              "    // Cache the last promise value to make it available to the next\n",
              "    // step of the generator.\n",
              "    outputElement.lastPromiseValue = value;\n",
              "    return next.value.response;\n",
              "  });\n",
              "}\n",
              "\n",
              "/**\n",
              " * Generator function which is called between each async step of the upload\n",
              " * process.\n",
              " * @param {string} inputId Element ID of the input file picker element.\n",
              " * @param {string} outputId Element ID of the output display.\n",
              " * @return {!Iterable<!Object>} Iterable of next steps.\n",
              " */\n",
              "function* uploadFilesStep(inputId, outputId) {\n",
              "  const inputElement = document.getElementById(inputId);\n",
              "  inputElement.disabled = false;\n",
              "\n",
              "  const outputElement = document.getElementById(outputId);\n",
              "  outputElement.innerHTML = '';\n",
              "\n",
              "  const pickedPromise = new Promise((resolve) => {\n",
              "    inputElement.addEventListener('change', (e) => {\n",
              "      resolve(e.target.files);\n",
              "    });\n",
              "  });\n",
              "\n",
              "  const cancel = document.createElement('button');\n",
              "  inputElement.parentElement.appendChild(cancel);\n",
              "  cancel.textContent = 'Cancel upload';\n",
              "  const cancelPromise = new Promise((resolve) => {\n",
              "    cancel.onclick = () => {\n",
              "      resolve(null);\n",
              "    };\n",
              "  });\n",
              "\n",
              "  // Wait for the user to pick the files.\n",
              "  const files = yield {\n",
              "    promise: Promise.race([pickedPromise, cancelPromise]),\n",
              "    response: {\n",
              "      action: 'starting',\n",
              "    }\n",
              "  };\n",
              "\n",
              "  cancel.remove();\n",
              "\n",
              "  // Disable the input element since further picks are not allowed.\n",
              "  inputElement.disabled = true;\n",
              "\n",
              "  if (!files) {\n",
              "    return {\n",
              "      response: {\n",
              "        action: 'complete',\n",
              "      }\n",
              "    };\n",
              "  }\n",
              "\n",
              "  for (const file of files) {\n",
              "    const li = document.createElement('li');\n",
              "    li.append(span(file.name, {fontWeight: 'bold'}));\n",
              "    li.append(span(\n",
              "        `(${file.type || 'n/a'}) - ${file.size} bytes, ` +\n",
              "        `last modified: ${\n",
              "            file.lastModifiedDate ? file.lastModifiedDate.toLocaleDateString() :\n",
              "                                    'n/a'} - `));\n",
              "    const percent = span('0% done');\n",
              "    li.appendChild(percent);\n",
              "\n",
              "    outputElement.appendChild(li);\n",
              "\n",
              "    const fileDataPromise = new Promise((resolve) => {\n",
              "      const reader = new FileReader();\n",
              "      reader.onload = (e) => {\n",
              "        resolve(e.target.result);\n",
              "      };\n",
              "      reader.readAsArrayBuffer(file);\n",
              "    });\n",
              "    // Wait for the data to be ready.\n",
              "    let fileData = yield {\n",
              "      promise: fileDataPromise,\n",
              "      response: {\n",
              "        action: 'continue',\n",
              "      }\n",
              "    };\n",
              "\n",
              "    // Use a chunked sending to avoid message size limits. See b/62115660.\n",
              "    let position = 0;\n",
              "    do {\n",
              "      const length = Math.min(fileData.byteLength - position, MAX_PAYLOAD_SIZE);\n",
              "      const chunk = new Uint8Array(fileData, position, length);\n",
              "      position += length;\n",
              "\n",
              "      const base64 = btoa(String.fromCharCode.apply(null, chunk));\n",
              "      yield {\n",
              "        response: {\n",
              "          action: 'append',\n",
              "          file: file.name,\n",
              "          data: base64,\n",
              "        },\n",
              "      };\n",
              "\n",
              "      let percentDone = fileData.byteLength === 0 ?\n",
              "          100 :\n",
              "          Math.round((position / fileData.byteLength) * 100);\n",
              "      percent.textContent = `${percentDone}% done`;\n",
              "\n",
              "    } while (position < fileData.byteLength);\n",
              "  }\n",
              "\n",
              "  // All done.\n",
              "  yield {\n",
              "    response: {\n",
              "      action: 'complete',\n",
              "    }\n",
              "  };\n",
              "}\n",
              "\n",
              "scope.google = scope.google || {};\n",
              "scope.google.colab = scope.google.colab || {};\n",
              "scope.google.colab._files = {\n",
              "  _uploadFiles,\n",
              "  _uploadFilesContinue,\n",
              "};\n",
              "})(self);\n",
              "</script> "
            ]
          },
          "metadata": {}
        },
        {
          "output_type": "stream",
          "name": "stdout",
          "text": [
            "Saving bbzqa250328t0004_dim-860.jpg to bbzqa250328t0004_dim-860.jpg\n",
            "Image in use: bbzqa250328t0004_dim-860.jpg\n"
          ]
        }
      ],
      "source": [
        "# 📤 Upload solar magnetogram\n",
        "try:\n",
        "    from google.colab import files\n",
        "    uploaded = files.upload()\n",
        "    image_path = next(iter(uploaded))\n",
        "except:\n",
        "    image_path = 'sun_2025_03_28.jpg'\n",
        "print(f'Image in use: {image_path}')"
      ]
    },
    {
      "cell_type": "code",
      "execution_count": 9,
      "id": "6f6ec450",
      "metadata": {
        "id": "6f6ec450"
      },
      "outputs": [],
      "source": [
        "from PIL import Image\n",
        "import numpy as np\n",
        "import matplotlib.pyplot as plt\n",
        "import os\n",
        "\n",
        "base_name = os.path.splitext(os.path.basename(image_path))[0]\n",
        "entropy_map_npy = f'{base_name}_entropy_map.npy'\n",
        "entropy_map_png = f'{base_name}_entropy_map.png'\n",
        "entropy_vector_npy = f'{base_name}_entropy_vector.npy'"
      ]
    },
    {
      "cell_type": "code",
      "execution_count": 10,
      "id": "284da724",
      "metadata": {
        "id": "284da724"
      },
      "outputs": [],
      "source": [
        "# 🔍 Create entropy map\n",
        "img = Image.open(image_path).convert('L')\n",
        "img_array = np.array(img)\n",
        "h, w = img_array.shape\n",
        "cx, cy = w // 2, h // 2\n",
        "radius = min(cx, cy) - 10\n",
        "y_indices, x_indices = np.ogrid[:h, :w]\n",
        "mask = (x_indices - cx)**2 + (y_indices - cy)**2 <= radius**2\n",
        "disk_values = img_array[mask]\n",
        "scaled_field = (disk_values / 255.0) * 200 - 100\n",
        "hist, bin_edges = np.histogram(scaled_field, bins=50, density=True)\n",
        "entropy_map = np.zeros_like(img_array, dtype=float)\n",
        "entropy_map[mask] = np.interp(disk_values, bin_edges[:-1], hist)\n",
        "np.save(entropy_map_npy, entropy_map)\n",
        "plt.imsave(entropy_map_png, entropy_map, cmap='inferno')"
      ]
    },
    {
      "cell_type": "code",
      "execution_count": 11,
      "id": "2a7bb858",
      "metadata": {
        "colab": {
          "base_uri": "https://localhost:8080/",
          "height": 437
        },
        "id": "2a7bb858",
        "outputId": "c400700b-1183-4ef2-9333-06d76b2ab635"
      },
      "outputs": [
        {
          "output_type": "display_data",
          "data": {
            "text/plain": [
              "<Figure size 640x480 with 2 Axes>"
            ],
            "image/png": "[encoded data removed]"
          },
          "metadata": {}
        }
      ],
      "source": [
        "# 🔬 Show entropy map\n",
        "plt.imshow(entropy_map, cmap='inferno')\n",
        "plt.title('Entropy Map')\n",
        "plt.axis('off')\n",
        "plt.colorbar()\n",
        "plt.show()"
      ]
    },
    {
      "cell_type": "code",
      "execution_count": 12,
      "id": "c5ae55a1",
      "metadata": {
        "id": "c5ae55a1"
      },
      "outputs": [],
      "source": [
        "# 📐 DLSFH 20-node vector\n",
        "angles = np.linspace(0, 2 * np.pi, 21)\n",
        "radii = [0.3, 0.65]\n",
        "zones = [(int(cx + r * radius * np.cos((angles[i]+angles[i+1])/2)),\n",
        "          int(cy + r * radius * np.sin((angles[i]+angles[i+1])/2)))\n",
        "         for r in radii for i in range(10)]\n",
        "kernel = 20\n",
        "entropy_20 = np.array([\n",
        "    np.mean(entropy_map[max(0, y-kernel):min(h, y+kernel), max(0, x-kernel):min(w, x+kernel)])\n",
        "    for x, y in zones\n",
        "])\n",
        "np.save(entropy_vector_npy, entropy_20)"
      ]
    },
    {
      "cell_type": "code",
      "execution_count": 13,
      "id": "3d02dc9f",
      "metadata": {
        "colab": {
          "base_uri": "https://localhost:8080/"
        },
        "id": "3d02dc9f",
        "outputId": "7579a527-29ca-4dfe-e6a1-c8cc243d0dc4"
      },
      "outputs": [
        {
          "output_type": "stream",
          "name": "stdout",
          "text": [
            "=== Dynamic Solar Entropy Interpretation ===\n",
            "Entropy Vector: [0.0027 0.0027 0.0027 0.0027 0.0027 0.0027 0.0027 0.0027 0.0027 0.0027\n",
            " 0.0027 0.0027 0.0027 0.0027 0.0027 0.0027 0.0027 0.0027 0.0027 0.0027]\n",
            "Collapsed Nodes (Inner Ring): 0/10\n",
            "Collapsed Nodes (Outer Ring): 0/10\n",
            "→ Entire system coherent. Baseline or minimum state.\n"
          ]
        }
      ],
      "source": [
        "# 🧠 Enhanced dynamic interpretation\n",
        "sigma_c = 0.07\n",
        "inner_ring = entropy_20[:10]\n",
        "outer_ring = entropy_20[10:]\n",
        "collapsed_inner = inner_ring >= sigma_c\n",
        "collapsed_outer = outer_ring >= sigma_c\n",
        "total_inner = np.sum(collapsed_inner)\n",
        "total_outer = np.sum(collapsed_outer)\n",
        "\n",
        "# Look for arcs (3 or more adjacent)\n",
        "arc_inner = any(np.sum(inner_ring[i:i+3] >= sigma_c) >= 3 for i in range(8))\n",
        "arc_outer = any(np.sum(outer_ring[i:i+3] >= sigma_c) >= 3 for i in range(8))\n",
        "\n",
        "print(\"=== Dynamic Solar Entropy Interpretation ===\")\n",
        "print(f\"Entropy Vector: {np.round(entropy_20, 4)}\")\n",
        "print(f\"Collapsed Nodes (Inner Ring): {total_inner}/10\")\n",
        "print(f\"Collapsed Nodes (Outer Ring): {total_outer}/10\")\n",
        "\n",
        "if total_inner == 0 and total_outer == 0:\n",
        "    print(\"→ Entire system coherent. Baseline or minimum state.\")\n",
        "elif arc_outer and total_outer >= 5:\n",
        "    print(\"→ Arc-like decoherence detected in outer ring.\")\n",
        "    print(\"→ Suggests field line shearing or equatorial flux loop buildup.\")\n",
        "elif arc_inner and total_inner >= 3:\n",
        "    print(\"→ Inner ring decoherence arc detected.\")\n",
        "    print(\"→ May indicate destabilization of polar root field structure.\")\n",
        "elif total_outer > total_inner:\n",
        "    print(\"→ Outer decoherence exceeds inner.\")\n",
        "    print(\"→ Consistent with sunspot band activation or early-cycle flux emergence.\")\n",
        "elif total_inner > total_outer:\n",
        "    print(\"→ Inner ring decoherence dominates.\")\n",
        "    print(\"→ Suggestive of core flux transition or polar weakening.\")\n",
        "else:\n",
        "    print(\"→ Mild symmetry, but scattered decoherence — mixed phase or transition state.\")"
      ]
    }
  ],
  "metadata": {
    "colab": {
      "provenance": [],
      "include_colab_link": true
    },
    "language_info": {
      "name": "python"
    },
    "kernelspec": {
      "name": "python3",
      "display_name": "Python 3"
    }
  },
  "nbformat": 4,
  "nbformat_minor": 5
}